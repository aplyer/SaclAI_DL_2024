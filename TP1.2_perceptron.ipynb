{
 "cells": [
  {
   "cell_type": "markdown",
   "metadata": {
    "id": "kazsp0YkuBVn"
   },
   "source": [
    "## 2. Classification linéaire : le Perceptron \n"
   ]
  },
  {
   "cell_type": "markdown",
   "metadata": {
    "id": "VAypUVvgv4Wy"
   },
   "source": [
    "**2.1 Classification de points du plan avec un perceptron**\n",
    "\n",
    "_**Rappel du cours :**_ \n",
    "Le perceptron est une architecture simple de réseau de neurones utilisée pour la classification binaire. Le modèle linéaire associé est défini par :\n",
    "\n",
    "$$\n",
    "\\hat{y} = \\sigma(Wx + b)\n",
    "$$\n",
    "\n",
    "où $W$ est la matrice de poids, $b$ est le vecteur de biais, $x$ est l'entrée et $\\sigma$ est la fonction d'activation.\n",
    "\n",
    "La fonction d'activation la plus courante pour le perceptron est la fonction signe :\n",
    "\n",
    "$$\n",
    "\\sigma(z) = \\begin{cases} \n",
    "      1 & z \\geq 0 \\\\\n",
    "      -1 & z < 0 \n",
    "   \\end{cases}\n",
    "$$\n",
    "\n",
    "Lors de l'apprentissage, on met à jour les poids et les biais avec la règle suivante :\n",
    "\n",
    "$$\n",
    "W \\leftarrow W + \\eta (y - \\hat{y})x \\\\\n",
    "b \\leftarrow b + \\eta (y - \\hat{y})\n",
    "$$\n",
    "\n",
    "où $\\eta$ est le taux d'apprentissage.\n"
   ]
  },
  {
   "cell_type": "markdown",
   "metadata": {
    "id": "stgByZmRuGZF"
   },
   "source": [
    "### 2.1   classification points du plan\n",
    "\n",
    "\n",
    "Générez un ensemble de données de points en deux dimensions avec deux classes séparables linéairement. Implémentez un perceptron qui apprend à classer ces points en utilisant la fonction signe comme fonction d'activation.\n",
    "\n",
    "**Question 1.** Générez les données : créez deux groupes de points avec des coordonnées $(x,y)$ uniformément réparties, chacun étant associé à une classe différente.\n",
    "\n",
    "``` python\n",
    "import numpy as np\n",
    "\n",
    "# Nombre de points à générer\n",
    "n_points = 100\n",
    "\n",
    "\n",
    "# Génération des données en prenant deux distribution normales\n",
    "class_1 = np.random.normal(-3, 1, size=(n_points, 2))\n",
    "class_2 = np.random.normal(3 , 1, size=(n_points, 2))\n",
    "```\n"
   ]
  },
  {
   "cell_type": "code",
   "execution_count": null,
   "metadata": {
    "executionInfo": {
     "elapsed": 27,
     "status": "ok",
     "timestamp": 1684154596623,
     "user": {
      "displayName": "Aurelien Plyer (AP)",
      "userId": "02997302442082897647"
     },
     "user_tz": -120
    },
    "id": "Q1UHMwOUvwT2"
   },
   "outputs": [],
   "source": []
  },
  {
   "cell_type": "markdown",
   "metadata": {
    "id": "fqhZEk3owJI0"
   },
   "source": [
    "\n",
    "**Question 2 :**  Affichez les points avec des marqueurs différents pour chaque classe.\n",
    "\n",
    "``` python\n",
    "import matplotlib.pyplot as plt\n",
    "\n",
    "# Affichage des points\n",
    "plt.scatter(class_1[:, 0], class_1[:, 1], marker='x', color='blue', label='Class 1')\n",
    "plt.scatter(class_2[:, 0], class_2[:, 1], marker='o', color='red', label='Class 2')\n",
    "\n",
    "plt.xlabel('X coordinate')\n",
    "plt.ylabel('Y coordinate')\n",
    "plt.legend()\n",
    "```\n"
   ]
  },
  {
   "cell_type": "code",
   "execution_count": null,
   "metadata": {
    "colab": {
     "base_uri": "https://localhost:8080/",
     "height": 466
    },
    "executionInfo": {
     "elapsed": 948,
     "status": "ok",
     "timestamp": 1684154597549,
     "user": {
      "displayName": "Aurelien Plyer (AP)",
      "userId": "02997302442082897647"
     },
     "user_tz": -120
    },
    "id": "vFoU0_8awoIT",
    "outputId": "995481a0-08e0-40a6-ca76-55126d33d7e5"
   },
   "outputs": [],
   "source": []
  },
  {
   "cell_type": "markdown",
   "metadata": {
    "id": "vK8bbSuDwNJy"
   },
   "source": [
    "\n",
    "**Question 3:** Implémentez un perceptron pour classer ces points. Initialisez les poids et le biais avec des valeurs nulles.\n",
    "\n",
    "``` python\n",
    "# Fonction d'activation signe\n",
    "def sign_activation(z):\n",
    "    return 1 if z >= 0 else -1\n",
    "\n",
    "# Initialisation des poids et du biais\n",
    "weights = np.zeros(2)\n",
    "bias = 0\n",
    "learning_rate = 0.1\n",
    "```\n"
   ]
  },
  {
   "cell_type": "code",
   "execution_count": null,
   "metadata": {
    "executionInfo": {
     "elapsed": 6,
     "status": "ok",
     "timestamp": 1684154601381,
     "user": {
      "displayName": "Aurelien Plyer (AP)",
      "userId": "02997302442082897647"
     },
     "user_tz": -120
    },
    "id": "Ki2rjJBrwQGJ"
   },
   "outputs": [],
   "source": []
  },
  {
   "cell_type": "markdown",
   "metadata": {
    "id": "bbE-83cCwQuY"
   },
   "source": [
    "\n",
    "**Question 4 :** Faites une passe d'apprentissage sur l'ensemble des données. Mettez à jour les poids et le biais selon la règle d'apprentissage du perceptron.\n",
    "\n",
    "``` python\n",
    "for point, label in zip(np.vstack([class_1, class_2]), np.array([1]*n_points + [-1]*n_points)):\n",
    "    # Calcul de l'output du perceptron\n",
    "    output = sign_activation(np.dot(weights, point) + bias)\n",
    "    \n",
    "    # Mise à jour des poids et du biais\n",
    "    weights += learning_rate * (label - output) * point\n",
    "    bias += learning_rate * (label - output)\n",
    "```"
   ]
  },
  {
   "cell_type": "code",
   "execution_count": null,
   "metadata": {
    "executionInfo": {
     "elapsed": 657,
     "status": "ok",
     "timestamp": 1684154607015,
     "user": {
      "displayName": "Aurelien Plyer (AP)",
      "userId": "02997302442082897647"
     },
     "user_tz": -120
    },
    "id": "dBLRi9ObwMvY"
   },
   "outputs": [],
   "source": []
  },
  {
   "cell_type": "markdown",
   "metadata": {
    "id": "-rhPOLHDwS__"
   },
   "source": [
    "\n",
    "**Question 5 :**. Tracez la ligne de séparation du perceptron sur le graphique des données. \n",
    "\n",
    "``` python\n",
    "# Coordonnées de la ligne de séparation\n",
    "x_sep = np.linspace(-2, 2, 100)\n",
    "y_sep = (-weights[0] * x_sep - bias) / weights[1]\n",
    "\n",
    "# Affichage des points et de la ligne de séparation\n",
    "plt.scatter(class_1[:, 0], class_1[:, 1], marker='x', color='blue', label='Class 1')\n",
    "plt.scatter(class_2[:, 0], class_2[:, 1], marker='o', color='red', label='Class 2')\n",
    "plt.plot(x_sep, y_sep, linestyle='--', color='green', label='Perceptron separator')\n",
    "\n",
    "plt.xlabel('X coordinate')\n",
    "plt.ylabel('Y coordinate')\n",
    "plt.legend()\n",
    "```"
   ]
  },
  {
   "cell_type": "code",
   "execution_count": null,
   "metadata": {
    "colab": {
     "base_uri": "https://localhost:8080/",
     "height": 466
    },
    "executionInfo": {
     "elapsed": 729,
     "status": "ok",
     "timestamp": 1684154618576,
     "user": {
      "displayName": "Aurelien Plyer (AP)",
      "userId": "02997302442082897647"
     },
     "user_tz": -120
    },
    "id": "2QVqDTO7wUZj",
    "outputId": "7707b68f-39c5-4de8-81f3-ed8438ed90e2"
   },
   "outputs": [],
   "source": []
  },
  {
   "cell_type": "markdown",
   "metadata": {
    "id": "oEKyi-ZOuJjj"
   },
   "source": [
    "### 2.2  vitesse de convergence et séparabilité\n",
    "\n",
    "\n",
    "Dans cette question, nous allons étudier la vitesse de convergence du perceptron et observer comment il évolue en fonction du nombre d'itérations. La convergence dépend notamment de la séparabilité des données.\n",
    "\n",
    "\n",
    "```python\n",
    "import numpy as np\n",
    "import matplotlib.pyplot as plt\n",
    "from sklearn.datasets import make_classification\n",
    "from matplotlib.animation import FuncAnimation\n",
    "from IPython import display\n",
    "```"
   ]
  },
  {
   "cell_type": "code",
   "execution_count": null,
   "metadata": {
    "executionInfo": {
     "elapsed": 2043,
     "status": "ok",
     "timestamp": 1684154628839,
     "user": {
      "displayName": "Aurelien Plyer (AP)",
      "userId": "02997302442082897647"
     },
     "user_tz": -120
    },
    "id": "Tx-ZUmlI1y6f"
   },
   "outputs": [],
   "source": []
  },
  {
   "cell_type": "markdown",
   "metadata": {
    "id": "3PcX9G24y2Ex"
   },
   "source": [
    "**Question 1 :** Générez des données séparables et non séparables linéairement en utilisant la fonction `make_classification` de scikit-learn.\n",
    "\n",
    "pour connaitre la forme de sont appel dans une cellue de code tapez : \n",
    "```\n",
    "make_classification?\n",
    "```\n",
    "pour ouvrir l'aide de la fonction, ou alors :   \n",
    "```\n",
    "make_classification??\n",
    "```\n",
    "pour ouvrir le code de la fonction.\n",
    "\n",
    "Écrivez une fonction qui renvois un jeux de données \n",
    "```python\n",
    "def generate_data(separability = 1.0):\n",
    "    X, y = make_classification(class_sep = separability ,n_samples=100, n_features=2, n_redundant=0,  n_informative=2, n_clusters_per_class=1, random_state=42)\n",
    "    y[y == 0] = -1 # Remplacer les 0 par des -1 pour la classification binaire\n",
    "    return  X, y\n",
    "```"
   ]
  },
  {
   "cell_type": "code",
   "execution_count": null,
   "metadata": {
    "executionInfo": {
     "elapsed": 213,
     "status": "ok",
     "timestamp": 1684154681832,
     "user": {
      "displayName": "Aurelien Plyer (AP)",
      "userId": "02997302442082897647"
     },
     "user_tz": -120
    },
    "id": "n6NAA5aRy1Xo"
   },
   "outputs": [],
   "source": []
  },
  {
   "cell_type": "markdown",
   "metadata": {
    "id": "DNt-rG5OzReB"
   },
   "source": [
    "\n",
    "**Question 2 :** écrivez une fonction compute_perceptron qui calcul l'évolution de la frontière de séparation durant les itération : \n",
    "```python \n",
    "def compute_perceptron(X, y, alpha = 0.1, n_iter = 10):\n",
    "    # Implémentation de l'algorithme du perceptron\n",
    "    w = np.random.rand(3)\n",
    "    errors = []\n",
    "    w_history = [w.copy()]\n",
    "\n",
    "    for t in range(n_iter):\n",
    "        error_count = 0\n",
    "        for x, target in zip(X, y):\n",
    "            input_with_bias = np.append(x, 1)\n",
    "            prediction = np.sign(np.dot(w, input_with_bias))\n",
    "            update = alpha * (target - prediction) * input_with_bias\n",
    "            w += update\n",
    "            if target != prediction:\n",
    "                error_count += 1\n",
    "        w_history.append(w.copy())\n",
    "        errors.append(error_count)\n",
    "    return w_history, errors\n",
    "```\n"
   ]
  },
  {
   "cell_type": "code",
   "execution_count": null,
   "metadata": {
    "executionInfo": {
     "elapsed": 691,
     "status": "ok",
     "timestamp": 1684154650664,
     "user": {
      "displayName": "Aurelien Plyer (AP)",
      "userId": "02997302442082897647"
     },
     "user_tz": -120
    },
    "id": "diJ58vj92bTw"
   },
   "outputs": [],
   "source": []
  },
  {
   "cell_type": "markdown",
   "metadata": {
    "id": "0r5Jf5tizYLX"
   },
   "source": [
    "\n",
    "**Question 3 :** Avec les lignes calculé on peut créer une annimation matplotlib avec la fonction suivante : \n",
    "\n",
    "```python\n",
    "def create_annimation(w_history, X, y):\n",
    "    fig, ax = plt.subplots()\n",
    "    n_iter = len(w_history)\n",
    "    def animate(i):\n",
    "        ax.clear()\n",
    "        current_w = w_history[i]\n",
    "        ax.scatter(X[:, 0], X[:, 1], c=y, cmap='viridis')\n",
    "        x_line = np.linspace(min(X[:, 0]), max(X[:, 0]), 100)\n",
    "        y_line = (-current_w[0] * x_line - current_w[2]) / current_w[1]\n",
    "        ax.plot(x_line, y_line, '-r')\n",
    "        ax.set_title(f\"Iteration: {i}\")\n",
    "\n",
    "    ani = FuncAnimation(fig, animate, frames=n_iter, interval=500)\n",
    "    return ani\n",
    "```\n",
    "\n",
    "\n",
    "```python\n",
    "X, y = generate_data(0.1)\n",
    "w_history, errors =  compute_perceptron(X, y, alpha = 0.1, n_iter = 10)\n",
    "test1 = create_annimation(w_history, X, y)\n",
    "```"
   ]
  },
  {
   "cell_type": "code",
   "execution_count": null,
   "metadata": {
    "executionInfo": {
     "elapsed": 221,
     "status": "ok",
     "timestamp": 1684154657593,
     "user": {
      "displayName": "Aurelien Plyer (AP)",
      "userId": "02997302442082897647"
     },
     "user_tz": -120
    },
    "id": "WAMGWYKXzg1n"
   },
   "outputs": [],
   "source": []
  },
  {
   "cell_type": "code",
   "execution_count": null,
   "metadata": {},
   "outputs": [],
   "source": []
  },
  {
   "cell_type": "code",
   "execution_count": null,
   "metadata": {
    "colab": {
     "base_uri": "https://localhost:8080/",
     "height": 936
    },
    "executionInfo": {
     "elapsed": 3769,
     "status": "ok",
     "timestamp": 1684154695969,
     "user": {
      "displayName": "Aurelien Plyer (AP)",
      "userId": "02997302442082897647"
     },
     "user_tz": -120
    },
    "id": "FvDELR07cK4a",
    "outputId": "f5b67963-866e-45da-e68e-41785212486b"
   },
   "outputs": [],
   "source": []
  },
  {
   "cell_type": "markdown",
   "metadata": {
    "id": "IJxSO98S5f88"
   },
   "source": [
    "```python\n",
    "test1.save(\"perceptron.gif\")\n",
    "```\n",
    "\n",
    "pour sauvegarder l'annimation\n"
   ]
  },
  {
   "cell_type": "code",
   "execution_count": null,
   "metadata": {
    "id": "mUM4upPK4AOU"
   },
   "outputs": [],
   "source": []
  },
  {
   "cell_type": "markdown",
   "metadata": {},
   "source": [
    "pour afficher l' annimation : \n",
    "```python\n",
    "from IPython.display import Image\n",
    "Image(url='perceptron.gif')\n",
    "```"
   ]
  },
  {
   "cell_type": "code",
   "execution_count": null,
   "metadata": {},
   "outputs": [],
   "source": []
  },
  {
   "cell_type": "markdown",
   "metadata": {
    "id": "25alerPOuQZH"
   },
   "source": [
    "### Ouverture \n",
    "\n",
    "On peut essayer de faire varier les parametres de l'apprentissage : le alpha et le nombre d'iterations\n",
    "\n",
    "On peut aussi regarder comment converge l'estimation en fonction de alpha et de la séparabilité des données\n",
    "\n",
    "En dehors de l'intéret pédagogique une fois qu'on a compris comment fonctionne un perceptron on a tout intéret à utiliser des version déja implémenter.\n",
    "\n",
    "Le code suivant reproduit l'expérience plus haute dans un cadre ou on peut changer la dimension de l'espace d'entré (plus seulement 2D) et fait une optimisation des hyperparamètre du perceptron (nombre d'itérations et pas de descente) : \n",
    "\n",
    "```python\n",
    "# grid search total epochs for the perceptron\n",
    "from sklearn.datasets import make_classification\n",
    "from sklearn.model_selection import GridSearchCV\n",
    "from sklearn.model_selection import RepeatedStratifiedKFold\n",
    "from sklearn.linear_model import Perceptron\n",
    "\n",
    "# defintion d'un jeux de données, ici on peut jouer sur la taille (n_features) et la spéparabilité des classes\n",
    "X, y = make_classification(n_samples=1000, n_features=10, n_informative=10, class_sep=0.9 ,  n_redundant=0, random_state=1)\n",
    "\n",
    "# definition d'un model de perceptron\n",
    "model = Perceptron(eta0=0.0001)\n",
    "\n",
    "\n",
    "# definition du mode d'évaluation par cross validation\n",
    "cv = RepeatedStratifiedKFold(n_splits=10, n_repeats=3, random_state=1)\n",
    "\n",
    "# definition de la grille d'exploration des paramètres\n",
    "grid = dict()\n",
    "# On chois\n",
    "grid['max_iter'] = [1, 10, 100, 1000, 10000, 100000]\n",
    "grid['eta0'] = [0.1, 0.01, 0.001, 0.0001]\n",
    "\n",
    "# la recherche du parametrage optimal :\n",
    "search = GridSearchCV(model, grid, scoring='accuracy', cv=cv, n_jobs=-1)\n",
    "results = search.fit(X, y)\n",
    "\n",
    "# le résultat\n",
    "print('Mean Accuracy: %.3f' % results.best_score_)\n",
    "print('Config: %s' % results.best_params_)\n",
    "# summarize all\n",
    "means = results.cv_results_['mean_test_score']\n",
    "params = results.cv_results_['params']\n",
    "for mean, param in zip(means, params):\n",
    "    print(\">%.3f with: %r\" % (mean, param))\n",
    "```\n"
   ]
  },
  {
   "cell_type": "code",
   "execution_count": null,
   "metadata": {
    "id": "xgNQuEjEvxbc"
   },
   "outputs": [],
   "source": []
  },
  {
   "cell_type": "code",
   "execution_count": null,
   "metadata": {
    "id": "qGaL6uKlSQhZ"
   },
   "outputs": [],
   "source": []
  }
 ],
 "metadata": {
  "colab": {
   "authorship_tag": "ABX9TyPz5a3ZQxvn4XO5gM5fwp7G",
   "provenance": []
  },
  "kernelspec": {
   "display_name": "Python 3 (ipykernel)",
   "language": "python",
   "name": "python3"
  },
  "language_info": {
   "codemirror_mode": {
    "name": "ipython",
    "version": 3
   },
   "file_extension": ".py",
   "mimetype": "text/x-python",
   "name": "python",
   "nbconvert_exporter": "python",
   "pygments_lexer": "ipython3",
   "version": "3.11.5"
  }
 },
 "nbformat": 4,
 "nbformat_minor": 4
}
